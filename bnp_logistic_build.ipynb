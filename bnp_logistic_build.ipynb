{
 "cells": [
  {
   "cell_type": "code",
   "execution_count": 1,
   "metadata": {
    "collapsed": false
   },
   "outputs": [
    {
     "name": "stderr",
     "output_type": "stream",
     "text": [
      "/Users/binlin/anaconda/lib/python2.7/site-packages/matplotlib/font_manager.py:273: UserWarning: Matplotlib is building the font cache using fc-list. This may take a moment.\n",
      "  warnings.warn('Matplotlib is building the font cache using fc-list. This may take a moment.')\n"
     ]
    }
   ],
   "source": [
    "import pandas as pd\n",
    "import scipy as sp\n",
    "import numpy as np\n",
    "from sklearn import preprocessing\n",
    "from sklearn.linear_model import LogisticRegression\n",
    "from sklearn.neighbors import KNeighborsClassifier\n",
    "from sklearn.ensemble import RandomForestClassifier\n",
    "from sklearn import cross_validation\n",
    "import xgboost as xgb\n",
    "import pprint as pp\n",
    "from xgboost.sklearn import XGBClassifier\n",
    "from sklearn import cross_validation, metrics   #Additional scklearn functions\n",
    "from sklearn.grid_search import GridSearchCV   #Perforing grid search\n",
    "import bnp_helper\n",
    "import common_helper\n",
    "import random\n",
    "import os\n",
    "import datetime\n",
    "from sklearn.externals import joblib\n",
    "from matplotlib.pylab import rcParams\n",
    "\n",
    "%matplotlib inline\n",
    "rcParams['figure.figsize'] = 16, 4\n",
    "pd.set_option('display.max_columns', 18)"
   ]
  },
  {
   "cell_type": "code",
   "execution_count": 2,
   "metadata": {
    "collapsed": false
   },
   "outputs": [
    {
     "name": "stdout",
     "output_type": "stream",
     "text": [
      "variables to be dropped:\n",
      "['v12', 'v128', 'v104', 'v25', 'v15', 'v111', 'v121', 'v34', 'v40', 'v29', 'v116', 'v26', 'v105', 'v25', 'v48', 'v41', 'v11', 'v54', 'v33', 'v100', 'v26', 'v105', 'v25', 'v46', 'v54', 'v64', 'v20', 'v29', 'v41', 'v39', 'v115', 'v15', 'v32', 'v17', 'v64', 'v29', 'v67', 'v8', 'v5', 'v83', 'v32', 'v89', 'v92', 'v29', 'v41', 'v97']\n",
      "(228714, 449)\n"
     ]
    },
    {
     "data": {
      "text/html": [
       "<div>\n",
       "<table border=\"1\" class=\"dataframe\">\n",
       "  <thead>\n",
       "    <tr style=\"text-align: right;\">\n",
       "      <th></th>\n",
       "      <th>ID</th>\n",
       "      <th>target</th>\n",
       "      <th>v1</th>\n",
       "      <th>v10</th>\n",
       "      <th>v101</th>\n",
       "      <th>v102</th>\n",
       "      <th>v103</th>\n",
       "      <th>v106</th>\n",
       "      <th>v108</th>\n",
       "      <th>...</th>\n",
       "      <th>v79_Q</th>\n",
       "      <th>v79_R</th>\n",
       "      <th>v91_B</th>\n",
       "      <th>v91_C</th>\n",
       "      <th>v91_D</th>\n",
       "      <th>v91_E</th>\n",
       "      <th>v91_F</th>\n",
       "      <th>v91_G</th>\n",
       "      <th>v91_NA</th>\n",
       "    </tr>\n",
       "  </thead>\n",
       "  <tbody>\n",
       "    <tr>\n",
       "      <th>0</th>\n",
       "      <td>3</td>\n",
       "      <td>1</td>\n",
       "      <td>1.335739</td>\n",
       "      <td>0.503281</td>\n",
       "      <td>8.389237</td>\n",
       "      <td>2.757375</td>\n",
       "      <td>4.374296</td>\n",
       "      <td>12.579184</td>\n",
       "      <td>2.382692</td>\n",
       "      <td>...</td>\n",
       "      <td>0</td>\n",
       "      <td>0</td>\n",
       "      <td>0</td>\n",
       "      <td>0</td>\n",
       "      <td>0</td>\n",
       "      <td>0</td>\n",
       "      <td>0</td>\n",
       "      <td>0</td>\n",
       "      <td>0</td>\n",
       "    </tr>\n",
       "    <tr>\n",
       "      <th>1</th>\n",
       "      <td>4</td>\n",
       "      <td>1</td>\n",
       "      <td>-999.000000</td>\n",
       "      <td>1.312910</td>\n",
       "      <td>-999.000000</td>\n",
       "      <td>-999.000000</td>\n",
       "      <td>-999.000000</td>\n",
       "      <td>-999.000000</td>\n",
       "      <td>1.825361</td>\n",
       "      <td>...</td>\n",
       "      <td>0</td>\n",
       "      <td>0</td>\n",
       "      <td>1</td>\n",
       "      <td>0</td>\n",
       "      <td>0</td>\n",
       "      <td>0</td>\n",
       "      <td>0</td>\n",
       "      <td>0</td>\n",
       "      <td>0</td>\n",
       "    </tr>\n",
       "    <tr>\n",
       "      <th>2</th>\n",
       "      <td>5</td>\n",
       "      <td>1</td>\n",
       "      <td>0.943877</td>\n",
       "      <td>0.765864</td>\n",
       "      <td>5.879353</td>\n",
       "      <td>3.292788</td>\n",
       "      <td>5.924457</td>\n",
       "      <td>11.670572</td>\n",
       "      <td>1.375753</td>\n",
       "      <td>...</td>\n",
       "      <td>0</td>\n",
       "      <td>0</td>\n",
       "      <td>0</td>\n",
       "      <td>0</td>\n",
       "      <td>0</td>\n",
       "      <td>0</td>\n",
       "      <td>0</td>\n",
       "      <td>1</td>\n",
       "      <td>0</td>\n",
       "    </tr>\n",
       "    <tr>\n",
       "      <th>3</th>\n",
       "      <td>6</td>\n",
       "      <td>1</td>\n",
       "      <td>0.797415</td>\n",
       "      <td>6.542669</td>\n",
       "      <td>8.507281</td>\n",
       "      <td>2.503055</td>\n",
       "      <td>4.872157</td>\n",
       "      <td>12.554274</td>\n",
       "      <td>2.230754</td>\n",
       "      <td>...</td>\n",
       "      <td>0</td>\n",
       "      <td>0</td>\n",
       "      <td>1</td>\n",
       "      <td>0</td>\n",
       "      <td>0</td>\n",
       "      <td>0</td>\n",
       "      <td>0</td>\n",
       "      <td>0</td>\n",
       "      <td>0</td>\n",
       "    </tr>\n",
       "    <tr>\n",
       "      <th>4</th>\n",
       "      <td>8</td>\n",
       "      <td>1</td>\n",
       "      <td>-999.000000</td>\n",
       "      <td>1.050328</td>\n",
       "      <td>-999.000000</td>\n",
       "      <td>-999.000000</td>\n",
       "      <td>-999.000000</td>\n",
       "      <td>-999.000000</td>\n",
       "      <td>-999.000000</td>\n",
       "      <td>...</td>\n",
       "      <td>0</td>\n",
       "      <td>0</td>\n",
       "      <td>0</td>\n",
       "      <td>0</td>\n",
       "      <td>0</td>\n",
       "      <td>0</td>\n",
       "      <td>0</td>\n",
       "      <td>1</td>\n",
       "      <td>0</td>\n",
       "    </tr>\n",
       "  </tbody>\n",
       "</table>\n",
       "<p>5 rows × 449 columns</p>\n",
       "</div>"
      ],
      "text/plain": [
       "   ID  target          v1       v10        v101        v102        v103  \\\n",
       "0   3       1    1.335739  0.503281    8.389237    2.757375    4.374296   \n",
       "1   4       1 -999.000000  1.312910 -999.000000 -999.000000 -999.000000   \n",
       "2   5       1    0.943877  0.765864    5.879353    3.292788    5.924457   \n",
       "3   6       1    0.797415  6.542669    8.507281    2.503055    4.872157   \n",
       "4   8       1 -999.000000  1.050328 -999.000000 -999.000000 -999.000000   \n",
       "\n",
       "         v106        v108   ...    v79_Q  v79_R  v91_B  v91_C  v91_D  v91_E  \\\n",
       "0   12.579184    2.382692   ...        0      0      0      0      0      0   \n",
       "1 -999.000000    1.825361   ...        0      0      1      0      0      0   \n",
       "2   11.670572    1.375753   ...        0      0      0      0      0      0   \n",
       "3   12.554274    2.230754   ...        0      0      1      0      0      0   \n",
       "4 -999.000000 -999.000000   ...        0      0      0      0      0      0   \n",
       "\n",
       "   v91_F  v91_G  v91_NA  \n",
       "0      0      0       0  \n",
       "1      0      0       0  \n",
       "2      0      1       0  \n",
       "3      0      0       0  \n",
       "4      0      1       0  \n",
       "\n",
       "[5 rows x 449 columns]"
      ]
     },
     "execution_count": 2,
     "metadata": {},
     "output_type": "execute_result"
    }
   ],
   "source": [
    "################### Combine the training set and test set to fix the unmatched categories ############\n",
    "train_df_raw = pd.read_csv(\"../data/train.csv\")\n",
    "test_df_raw = pd.read_csv(\"../data/test.csv\")\n",
    "\n",
    "df_raw_combined = pd.concat([train_df_raw, test_df_raw], axis = 0)\n",
    "\n",
    "########### Clean and Impute (Combined) #############\n",
    "df_combinded = bnp_helper.clean(df_raw_combined, drop_collinearity = True, inplace = True)\n",
    "df_combinded = bnp_helper.impute_cate_with_na_numeric_with_outlier(df_combinded)\n",
    "\n",
    "################ Convert text to number (Combined) ################\n",
    "df_combinded = common_helper.dummify(df_combinded, bnp_helper.get_categorical_variables(df_combinded))\n",
    "print df_combinded.shape\n",
    "df_combinded.head()"
   ]
  },
  {
   "cell_type": "code",
   "execution_count": 3,
   "metadata": {
    "collapsed": false
   },
   "outputs": [],
   "source": [
    "train_df = df_combinded[-df_raw_combined['target'].isnull()]\n",
    "test_df = df_combinded[df_raw_combined['target'].isnull()]\n",
    "\n",
    "train_df_sample = train_df.sample(40000, random_state = 0)\n",
    "#train_df_sample = train_df\n",
    "target_train = train_df_sample['target']\n",
    "X_train = train_df_sample.drop(['ID', 'target'], axis = 1)"
   ]
  },
  {
   "cell_type": "code",
   "execution_count": 18,
   "metadata": {
    "collapsed": false
   },
   "outputs": [
    {
     "name": "stdout",
     "output_type": "stream",
     "text": [
      "model training time: 1:19:51.735297\n",
      "[mean: -0.62436, std: 0.00339, params: {'penalty': 'l1', 'C': 1.0000000000000001e-05, 'fit_intercept': False},\n",
      " mean: -0.54557, std: 0.00089, params: {'penalty': 'l2', 'C': 1.0000000000000001e-05, 'fit_intercept': False},\n",
      " mean: -0.62436, std: 0.00339, params: {'penalty': 'l1', 'C': 1.0000000000000001e-05, 'fit_intercept': True},\n",
      " mean: -0.54555, std: 0.00091, params: {'penalty': 'l2', 'C': 1.0000000000000001e-05, 'fit_intercept': True},\n",
      " mean: -0.54657, std: 0.00222, params: {'penalty': 'l1', 'C': 0.00012915496650148841, 'fit_intercept': False},\n",
      " mean: -0.53514, std: 0.00482, params: {'penalty': 'l2', 'C': 0.00012915496650148841, 'fit_intercept': False},\n",
      " mean: -0.54658, std: 0.00222, params: {'penalty': 'l1', 'C': 0.00012915496650148841, 'fit_intercept': True},\n",
      " mean: -0.53562, std: 0.00508, params: {'penalty': 'l2', 'C': 0.00012915496650148841, 'fit_intercept': True},\n",
      " mean: -0.52944, std: 0.00196, params: {'penalty': 'l1', 'C': 0.0016681005372000592, 'fit_intercept': False},\n",
      " mean: -0.53167, std: 0.00528, params: {'penalty': 'l2', 'C': 0.0016681005372000592, 'fit_intercept': False},\n",
      " mean: -0.52946, std: 0.00193, params: {'penalty': 'l1', 'C': 0.0016681005372000592, 'fit_intercept': True},\n",
      " mean: -0.53527, std: 0.00268, params: {'penalty': 'l2', 'C': 0.0016681005372000592, 'fit_intercept': True},\n",
      " mean: -0.50144, std: 0.00183, params: {'penalty': 'l1', 'C': 0.021544346900318846, 'fit_intercept': False},\n",
      " mean: -0.53214, std: 0.00661, params: {'penalty': 'l2', 'C': 0.021544346900318846, 'fit_intercept': False},\n",
      " mean: -0.50123, std: 0.00188, params: {'penalty': 'l1', 'C': 0.021544346900318846, 'fit_intercept': True},\n",
      " mean: -0.53397, std: 0.00505, params: {'penalty': 'l2', 'C': 0.021544346900318846, 'fit_intercept': True},\n",
      " mean: -0.49419, std: 0.00062, params: {'penalty': 'l1', 'C': 0.27825594022071259, 'fit_intercept': False},\n",
      " mean: -0.53306, std: 0.00499, params: {'penalty': 'l2', 'C': 0.27825594022071259, 'fit_intercept': False},\n",
      " mean: -0.49413, std: 0.00060, params: {'penalty': 'l1', 'C': 0.27825594022071259, 'fit_intercept': True},\n",
      " mean: -0.53318, std: 0.00387, params: {'penalty': 'l2', 'C': 0.27825594022071259, 'fit_intercept': True},\n",
      " mean: -0.49543, std: 0.00118, params: {'penalty': 'l1', 'C': 3.5938136638046259, 'fit_intercept': False},\n",
      " mean: -0.53241, std: 0.00632, params: {'penalty': 'l2', 'C': 3.5938136638046259, 'fit_intercept': False},\n",
      " mean: -0.49542, std: 0.00118, params: {'penalty': 'l1', 'C': 3.5938136638046259, 'fit_intercept': True},\n",
      " mean: -0.53359, std: 0.00458, params: {'penalty': 'l2', 'C': 3.5938136638046259, 'fit_intercept': True},\n",
      " mean: -0.49680, std: 0.00212, params: {'penalty': 'l1', 'C': 46.415888336127821, 'fit_intercept': False},\n",
      " mean: -0.53273, std: 0.00294, params: {'penalty': 'l2', 'C': 46.415888336127821, 'fit_intercept': False},\n",
      " mean: -0.49680, std: 0.00211, params: {'penalty': 'l1', 'C': 46.415888336127821, 'fit_intercept': True},\n",
      " mean: -0.53455, std: 0.00450, params: {'penalty': 'l2', 'C': 46.415888336127821, 'fit_intercept': True},\n",
      " mean: -0.49808, std: 0.00323, params: {'penalty': 'l1', 'C': 599.48425031894214, 'fit_intercept': False},\n",
      " mean: -0.53340, std: 0.00571, params: {'penalty': 'l2', 'C': 599.48425031894214, 'fit_intercept': False},\n",
      " mean: -0.49805, std: 0.00326, params: {'penalty': 'l1', 'C': 599.48425031894214, 'fit_intercept': True},\n",
      " mean: -0.53287, std: 0.00432, params: {'penalty': 'l2', 'C': 599.48425031894214, 'fit_intercept': True},\n",
      " mean: -0.49929, std: 0.00445, params: {'penalty': 'l1', 'C': 7742.6368268112774, 'fit_intercept': False},\n",
      " mean: -0.53341, std: 0.00596, params: {'penalty': 'l2', 'C': 7742.6368268112774, 'fit_intercept': False},\n",
      " mean: -0.49927, std: 0.00445, params: {'penalty': 'l1', 'C': 7742.6368268112774, 'fit_intercept': True},\n",
      " mean: -0.53249, std: 0.00425, params: {'penalty': 'l2', 'C': 7742.6368268112774, 'fit_intercept': True},\n",
      " mean: -0.50050, std: 0.00566, params: {'penalty': 'l1', 'C': 100000.0, 'fit_intercept': False},\n",
      " mean: -0.53421, std: 0.00497, params: {'penalty': 'l2', 'C': 100000.0, 'fit_intercept': False},\n",
      " mean: -0.50049, std: 0.00567, params: {'penalty': 'l1', 'C': 100000.0, 'fit_intercept': True},\n",
      " mean: -0.53337, std: 0.00487, params: {'penalty': 'l2', 'C': 100000.0, 'fit_intercept': True}]\n",
      "Best combination:  {'penalty': 'l1', 'C': 0.27825594022071259, 'fit_intercept': True}\n",
      "Best Score -0.494125030177\n"
     ]
    }
   ],
   "source": [
    "logit = LogisticRegression(random_state=27, n_jobs = -1)\n",
    "\n",
    "para_grid = [{'penalty': ['l1', 'l2'], \n",
    "              'fit_intercept': [False, True], \n",
    "              'C':np.logspace(-5, 5, 10)}]\n",
    "\n",
    "\n",
    "start = datetime.datetime.now()\n",
    "para_search = GridSearchCV(logit, para_grid, scoring='log_loss', cv =5).fit(X_train, target_train)\n",
    "end = datetime.datetime.now()\n",
    "print \"model training time: {}\".format(end - start)\n",
    "\n",
    "pp.pprint(para_search.grid_scores_)\n",
    "\n",
    "# best combinatin\n",
    "print 'Best combination: ', para_search.best_params_\n",
    "\n",
    "# best score\n",
    "print 'Best Score' , para_search.best_score_"
   ]
  },
  {
   "cell_type": "code",
   "execution_count": 21,
   "metadata": {
    "collapsed": true
   },
   "outputs": [],
   "source": [
    "# Use full traing set\n",
    "train_df_sample = train_df\n",
    "target_train = train_df_sample['target']\n",
    "X_train = train_df_sample.drop(['ID', 'target'], axis = 1)"
   ]
  },
  {
   "cell_type": "code",
   "execution_count": 22,
   "metadata": {
    "collapsed": false
   },
   "outputs": [
    {
     "data": {
      "text/plain": [
       "<bound method LogisticRegression.score of LogisticRegression(C=0.27825594022071259, class_weight=None, dual=False,\n",
       "          fit_intercept=True, intercept_scaling=1, max_iter=100,\n",
       "          multi_class='ovr', n_jobs=-1, penalty='l1', random_state=27,\n",
       "          solver='liblinear', tol=0.0001, verbose=0, warm_start=False)>"
      ]
     },
     "execution_count": 22,
     "metadata": {},
     "output_type": "execute_result"
    }
   ],
   "source": [
    "# train on full training set\n",
    "logit_best = para_search.best_estimator_\n",
    "logit_best.fit(X_train, target_train)"
   ]
  },
  {
   "cell_type": "code",
   "execution_count": 24,
   "metadata": {
    "collapsed": false
   },
   "outputs": [
    {
     "data": {
      "text/plain": [
       "0.4933370539949325"
      ]
     },
     "execution_count": 24,
     "metadata": {},
     "output_type": "execute_result"
    }
   ],
   "source": [
    "predprob_train = logit_best.predict_proba(X_train)\n",
    "metrics.log_loss(target_train, predprob_train)"
   ]
  },
  {
   "cell_type": "code",
   "execution_count": 27,
   "metadata": {
    "collapsed": false
   },
   "outputs": [
    {
     "data": {
      "text/plain": [
       "['save/logit_model.pkl',\n",
       " 'save/logit_model.pkl_01.npy',\n",
       " 'save/logit_model.pkl_02.npy',\n",
       " 'save/logit_model.pkl_03.npy',\n",
       " 'save/logit_model.pkl_04.npy']"
      ]
     },
     "execution_count": 27,
     "metadata": {},
     "output_type": "execute_result"
    }
   ],
   "source": [
    "joblib.dump(logit_best, 'save/logit_model.pkl')"
   ]
  },
  {
   "cell_type": "code",
   "execution_count": 5,
   "metadata": {
    "collapsed": false
   },
   "outputs": [
    {
     "name": "stdout",
     "output_type": "stream",
     "text": [
      "Done.\n"
     ]
    }
   ],
   "source": [
    "logit_best = joblib.load('save/logit_model.pkl')\n",
    "\n",
    "################# Predict the test set and save result to file ############\n",
    "#test_df_sample = test_df.sample(1000, random_state = 0)\n",
    "test_df_sample = test_df\n",
    "\n",
    "X_test = test_df_sample.drop(['ID', 'target'], axis = 1)\n",
    "\n",
    "#Predict test set:\n",
    "predprob_test = logit_best.predict_proba(X_test)\n",
    "        \n",
    "# Save results\n",
    "ids = test_df_sample['ID']\n",
    "predprob_one_test = [p[1] for p in predprob_test]\n",
    "bnp_helper.save_result(ids, predprob_one_test, \"results/logit_model_result.csv\")\n",
    "\n",
    "print('Done.')"
   ]
  },
  {
   "cell_type": "code",
   "execution_count": null,
   "metadata": {
    "collapsed": true
   },
   "outputs": [],
   "source": []
  }
 ],
 "metadata": {
  "kernelspec": {
   "display_name": "Python 2",
   "language": "python",
   "name": "python2"
  },
  "language_info": {
   "codemirror_mode": {
    "name": "ipython",
    "version": 2
   },
   "file_extension": ".py",
   "mimetype": "text/x-python",
   "name": "python",
   "nbconvert_exporter": "python",
   "pygments_lexer": "ipython2",
   "version": "2.7.11"
  }
 },
 "nbformat": 4,
 "nbformat_minor": 0
}
