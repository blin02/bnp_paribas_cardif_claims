{
 "cells": [
  {
   "cell_type": "code",
   "execution_count": 20,
   "metadata": {
    "collapsed": false
   },
   "outputs": [],
   "source": [
    "import pandas as pd\n",
    "import scipy as sp\n",
    "from sklearn import preprocessing\n",
    "from sklearn.linear_model import LogisticRegression\n",
    "from sklearn.neighbors import KNeighborsClassifier\n",
    "from sklearn.ensemble import RandomForestClassifier\n",
    "from sklearn import cross_validation\n",
    "import xgboost as xgb\n",
    "import pprint as pp\n",
    "from xgboost.sklearn import XGBClassifier\n",
    "from sklearn import cross_validation, metrics   #Additional scklearn functions\n",
    "from sklearn.grid_search import GridSearchCV   #Perforing grid search\n",
    "import bnp_helper\n",
    "import common_helper\n",
    "import random\n"
   ]
  },
  {
   "cell_type": "code",
   "execution_count": 2,
   "metadata": {
    "collapsed": false
   },
   "outputs": [],
   "source": [
    "train_df_raw = pd.read_csv(\"../data/train.csv\")"
   ]
  },
  {
   "cell_type": "code",
   "execution_count": 6,
   "metadata": {
    "collapsed": false
   },
   "outputs": [],
   "source": [
    "train_df = bnp_helper.clean(train_df_raw, drop_collinearity = True, inplace = False)\n",
    "train_df = bnp_helper.impute_cate_with_na_numeric_with_interpolate_linear(train_df_updated)\n"
   ]
  },
  {
   "cell_type": "code",
   "execution_count": 13,
   "metadata": {
    "collapsed": false
   },
   "outputs": [
    {
     "data": {
      "text/html": [
       "<div>\n",
       "<table border=\"1\" class=\"dataframe\">\n",
       "  <thead>\n",
       "    <tr style=\"text-align: right;\">\n",
       "      <th></th>\n",
       "      <th>ID</th>\n",
       "      <th>target</th>\n",
       "      <th>v1</th>\n",
       "      <th>v2</th>\n",
       "      <th>v4</th>\n",
       "      <th>v6</th>\n",
       "      <th>v7</th>\n",
       "      <th>v9</th>\n",
       "      <th>v10</th>\n",
       "      <th>v14</th>\n",
       "      <th>...</th>\n",
       "      <th>v125_Z</th>\n",
       "      <th>v129_1</th>\n",
       "      <th>v129_11</th>\n",
       "      <th>v129_2</th>\n",
       "      <th>v129_3</th>\n",
       "      <th>v129_4</th>\n",
       "      <th>v129_5</th>\n",
       "      <th>v129_6</th>\n",
       "      <th>v129_7</th>\n",
       "      <th>v129_8</th>\n",
       "    </tr>\n",
       "  </thead>\n",
       "  <tbody>\n",
       "    <tr>\n",
       "      <th>0</th>\n",
       "      <td>3</td>\n",
       "      <td>1</td>\n",
       "      <td>1.335739</td>\n",
       "      <td>8.727474</td>\n",
       "      <td>3.921026</td>\n",
       "      <td>2.599278</td>\n",
       "      <td>3.176895</td>\n",
       "      <td>9.999999</td>\n",
       "      <td>0.503281</td>\n",
       "      <td>11.636387</td>\n",
       "      <td>...</td>\n",
       "      <td>0</td>\n",
       "      <td>0</td>\n",
       "      <td>0</td>\n",
       "      <td>0</td>\n",
       "      <td>0</td>\n",
       "      <td>0</td>\n",
       "      <td>0</td>\n",
       "      <td>0</td>\n",
       "      <td>0</td>\n",
       "      <td>0</td>\n",
       "    </tr>\n",
       "    <tr>\n",
       "      <th>1</th>\n",
       "      <td>4</td>\n",
       "      <td>1</td>\n",
       "      <td>1.139808</td>\n",
       "      <td>7.018777</td>\n",
       "      <td>4.165997</td>\n",
       "      <td>3.289435</td>\n",
       "      <td>3.552733</td>\n",
       "      <td>11.333333</td>\n",
       "      <td>1.312910</td>\n",
       "      <td>11.636386</td>\n",
       "      <td>...</td>\n",
       "      <td>0</td>\n",
       "      <td>0</td>\n",
       "      <td>0</td>\n",
       "      <td>0</td>\n",
       "      <td>0</td>\n",
       "      <td>0</td>\n",
       "      <td>0</td>\n",
       "      <td>0</td>\n",
       "      <td>0</td>\n",
       "      <td>0</td>\n",
       "    </tr>\n",
       "    <tr>\n",
       "      <th>2</th>\n",
       "      <td>5</td>\n",
       "      <td>1</td>\n",
       "      <td>0.943877</td>\n",
       "      <td>5.310079</td>\n",
       "      <td>4.410969</td>\n",
       "      <td>3.979592</td>\n",
       "      <td>3.928571</td>\n",
       "      <td>12.666667</td>\n",
       "      <td>0.765864</td>\n",
       "      <td>9.603542</td>\n",
       "      <td>...</td>\n",
       "      <td>0</td>\n",
       "      <td>0</td>\n",
       "      <td>0</td>\n",
       "      <td>1</td>\n",
       "      <td>0</td>\n",
       "      <td>0</td>\n",
       "      <td>0</td>\n",
       "      <td>0</td>\n",
       "      <td>0</td>\n",
       "      <td>0</td>\n",
       "    </tr>\n",
       "    <tr>\n",
       "      <th>3</th>\n",
       "      <td>6</td>\n",
       "      <td>1</td>\n",
       "      <td>0.797415</td>\n",
       "      <td>8.304757</td>\n",
       "      <td>4.225930</td>\n",
       "      <td>2.097700</td>\n",
       "      <td>1.987549</td>\n",
       "      <td>8.965516</td>\n",
       "      <td>6.542669</td>\n",
       "      <td>14.094723</td>\n",
       "      <td>...</td>\n",
       "      <td>0</td>\n",
       "      <td>1</td>\n",
       "      <td>0</td>\n",
       "      <td>0</td>\n",
       "      <td>0</td>\n",
       "      <td>0</td>\n",
       "      <td>0</td>\n",
       "      <td>0</td>\n",
       "      <td>0</td>\n",
       "      <td>0</td>\n",
       "    </tr>\n",
       "    <tr>\n",
       "      <th>4</th>\n",
       "      <td>8</td>\n",
       "      <td>1</td>\n",
       "      <td>0.831545</td>\n",
       "      <td>7.974170</td>\n",
       "      <td>3.982003</td>\n",
       "      <td>2.040490</td>\n",
       "      <td>1.915175</td>\n",
       "      <td>7.647440</td>\n",
       "      <td>1.050328</td>\n",
       "      <td>10.991098</td>\n",
       "      <td>...</td>\n",
       "      <td>1</td>\n",
       "      <td>0</td>\n",
       "      <td>0</td>\n",
       "      <td>0</td>\n",
       "      <td>0</td>\n",
       "      <td>0</td>\n",
       "      <td>0</td>\n",
       "      <td>0</td>\n",
       "      <td>0</td>\n",
       "      <td>0</td>\n",
       "    </tr>\n",
       "  </tbody>\n",
       "</table>\n",
       "<p>5 rows × 470 columns</p>\n",
       "</div>"
      ],
      "text/plain": [
       "   ID  target        v1        v2        v4        v6        v7         v9  \\\n",
       "0   3       1  1.335739  8.727474  3.921026  2.599278  3.176895   9.999999   \n",
       "1   4       1  1.139808  7.018777  4.165997  3.289435  3.552733  11.333333   \n",
       "2   5       1  0.943877  5.310079  4.410969  3.979592  3.928571  12.666667   \n",
       "3   6       1  0.797415  8.304757  4.225930  2.097700  1.987549   8.965516   \n",
       "4   8       1  0.831545  7.974170  3.982003  2.040490  1.915175   7.647440   \n",
       "\n",
       "        v10        v14   ...    v125_Z  v129_1  v129_11  v129_2  v129_3  \\\n",
       "0  0.503281  11.636387   ...         0       0        0       0       0   \n",
       "1  1.312910  11.636386   ...         0       0        0       0       0   \n",
       "2  0.765864   9.603542   ...         0       0        0       1       0   \n",
       "3  6.542669  14.094723   ...         0       1        0       0       0   \n",
       "4  1.050328  10.991098   ...         1       0        0       0       0   \n",
       "\n",
       "   v129_4  v129_5  v129_6  v129_7  v129_8  \n",
       "0       0       0       0       0       0  \n",
       "1       0       0       0       0       0  \n",
       "2       0       0       0       0       0  \n",
       "3       0       0       0       0       0  \n",
       "4       0       0       0       0       0  \n",
       "\n",
       "[5 rows x 470 columns]"
      ]
     },
     "execution_count": 13,
     "metadata": {},
     "output_type": "execute_result"
    }
   ],
   "source": [
    "train_df = common_helper.dummify(train_df, bnp_helper.get_categorical_variables(train_df))\n",
    "train_df.head()"
   ]
  },
  {
   "cell_type": "code",
   "execution_count": 23,
   "metadata": {
    "collapsed": false
   },
   "outputs": [],
   "source": [
    "import matplotlib.pylab as plt\n",
    "%matplotlib inline\n",
    "from matplotlib.pylab import rcParams\n",
    "\n",
    "rcParams['figure.figsize'] = 12, 4\n",
    "\n",
    "\n",
    "def modelfit(alg, dtrain, predictors, useTrainCV=True, cv_folds=5, early_stopping_rounds=50):\n",
    "    \n",
    "    if useTrainCV:\n",
    "        xgb_param = alg.get_xgb_params()\n",
    "        xgtrain = xgb.DMatrix(dtrain[predictors].values, label=dtrain['target'].values)\n",
    "        cvresult = xgb.cv(xgb_param, xgtrain, num_boost_round=alg.get_params()['n_estimators'], nfold=cv_folds, metrics=['auc'], early_stopping_rounds=early_stopping_rounds, show_progress=False)\n",
    "        alg.set_params(n_estimators=cvresult.shape[0])\n",
    "    \n",
    "    #Fit the algorithm on the data\n",
    "    alg_fit = alg.fit(dtrain[predictors], dtrain['target'],eval_metric='auc')\n",
    "        \n",
    "    print alg_fit\n",
    "    \n",
    "    #Predict training set:\n",
    "    dtrain_predictions = alg.predict(dtrain[predictors])\n",
    "    dtrain_predprob = alg.predict_proba(dtrain[predictors])\n",
    "        \n",
    "    #Print model report:\n",
    "    print \"\\nModel Report\"\n",
    "    print \"Accuracy : %.4g\" % metrics.accuracy_score(dtrain['target'].values, dtrain_predictions)\n",
    "    print \"AUC Score (Train): %f\" % metrics.roc_auc_score(dtrain['target'], dtrain_predprob[:,1])    \n",
    "    print \"Log Loss (Train): %f\" % metrics.log_loss(dtrain['target'], dtrain_predprob)\n",
    "    \n",
    "    feat_imp = pd.Series(alg.booster().get_fscore()).sort_values(ascending=False)\n",
    "    \n",
    "    feat_imp.plot(kind='bar', title='Feature Importances')\n",
    "    plt.ylabel('Feature Importance Score')"
   ]
  },
  {
   "cell_type": "code",
   "execution_count": 3,
   "metadata": {
    "collapsed": false
   },
   "outputs": [],
   "source": [
    "#train_df = pd.read_csv(\"../data/cleaned/imputed_df_na_dummies_linear.csv\")\n",
    "\n",
    "#train_df_raw = pd.read_csv(\"../data/train.csv\")"
   ]
  },
  {
   "cell_type": "code",
   "execution_count": 26,
   "metadata": {
    "collapsed": false
   },
   "outputs": [],
   "source": [
    "random.seed(0)\n",
    "train_df_sample = train_df.sample(20000)\n",
    "\n",
    "target = train_df_sample['target']\n",
    "X_train = train_df_sample.drop(['ID', 'target'], axis = 1)"
   ]
  },
  {
   "cell_type": "code",
   "execution_count": 27,
   "metadata": {
    "collapsed": false
   },
   "outputs": [
    {
     "name": "stderr",
     "output_type": "stream",
     "text": [
      "Will train until cv error hasn't decreased in 50 rounds.\n",
      "Stopping. Best iteration: 37\n"
     ]
    },
    {
     "name": "stdout",
     "output_type": "stream",
     "text": [
      "XGBClassifier(base_score=0.5, colsample_bylevel=1, colsample_bytree=0.8,\n",
      "       gamma=0, learning_rate=0.1, max_delta_step=0, max_depth=5,\n",
      "       min_child_weight=1, missing=None, n_estimators=38, nthread=4,\n",
      "       objective='binary:logistic', reg_alpha=0, reg_lambda=1,\n",
      "       scale_pos_weight=1, seed=27, silent=True, subsample=0.8)\n",
      "\n",
      "Model Report\n",
      "Accuracy : 0.7931\n",
      "AUC Score (Train): 0.801561\n",
      "Log Loss (Train): 0.441964\n"
     ]
    },
    {
     "data": {
      "image/png": "[encoded data removed]",
      "text/plain": [
       "<matplotlib.figure.Figure at 0x11702bc50>"
      ]
     },
     "metadata": {},
     "output_type": "display_data"
    }
   ],
   "source": [
    "#Choose all predictors except target & IDcols\n",
    "predictors = [x for x in train_df.columns if x not in ['ID', 'target']]\n",
    "#print predictors\n",
    "\n",
    "xgb1 = XGBClassifier(\n",
    "    learning_rate =0.1,\n",
    "    n_estimators=1000,\n",
    "    max_depth=5,\n",
    "    min_child_weight=1,\n",
    "    gamma=0,\n",
    "    subsample=0.8,\n",
    "    colsample_bytree=0.8,\n",
    "    objective= 'binary:logistic',\n",
    "    nthread=4,\n",
    "    scale_pos_weight=1,\n",
    "    seed=27)\n",
    "\n",
    "modelfit(xgb1, train_df_sample, predictors)"
   ]
  },
  {
   "cell_type": "code",
   "execution_count": null,
   "metadata": {
    "collapsed": true
   },
   "outputs": [],
   "source": [
    "    max_depth=5,\n",
    "    min_child_weight=1,\n",
    "    Log Loss (Train): 0.437753\n",
    "        \n",
    "     {'max_depth': 6, 'min_child_weight': 5}, -0.55280434320858529)\n",
    "   \n",
    "{'max_depth': 4, 'min_child_weight': 3},\n",
    " -0.51165867501226481)\n",
    "    \n",
    "     {'gamma': 0.2},\n",
    " -0.51026556093699826)\n",
    "\n",
    " {'gamma': 0.3},\n",
    " -0.5092754346052939)\n",
    "\n",
    "{'colsample_bytree': 0.7, 'subsample': 0.9},\n",
    " -0.50763341622412728)\n",
    "        "
   ]
  },
  {
   "cell_type": "code",
   "execution_count": 5,
   "metadata": {
    "collapsed": false
   },
   "outputs": [
    {
     "data": {
      "text/plain": [
       "([mean: -0.51384, std: 0.00835, params: {'subsample': 0.7, 'colsample_bytree': 0.7},\n",
       "  mean: -0.51184, std: 0.00807, params: {'subsample': 0.8, 'colsample_bytree': 0.7},\n",
       "  mean: -0.50763, std: 0.00773, params: {'subsample': 0.9, 'colsample_bytree': 0.7},\n",
       "  mean: -0.51582, std: 0.00993, params: {'subsample': 0.7, 'colsample_bytree': 0.8},\n",
       "  mean: -0.50928, std: 0.00667, params: {'subsample': 0.8, 'colsample_bytree': 0.8},\n",
       "  mean: -0.50987, std: 0.00698, params: {'subsample': 0.9, 'colsample_bytree': 0.8},\n",
       "  mean: -0.51552, std: 0.00754, params: {'subsample': 0.7, 'colsample_bytree': 0.9},\n",
       "  mean: -0.51191, std: 0.00487, params: {'subsample': 0.8, 'colsample_bytree': 0.9},\n",
       "  mean: -0.50877, std: 0.00809, params: {'subsample': 0.9, 'colsample_bytree': 0.9}],\n",
       " {'colsample_bytree': 0.7, 'subsample': 0.9},\n",
       " -0.50763341622412728)"
      ]
     },
     "execution_count": 5,
     "metadata": {},
     "output_type": "execute_result"
    }
   ],
   "source": [
    "param_test1 = {\n",
    "    'subsample':[i/10.0 for i in range(7,10)],\n",
    "    'colsample_bytree':[i/10.0 for i in range(7,10)]\n",
    "}\n",
    "\n",
    "gsearch1 = GridSearchCV(estimator = XGBClassifier(learning_rate =0.3, n_estimators=140, max_depth=4, \\\n",
    "    min_child_weight=3, gamma=0.3, subsample=0.8, colsample_bytree=0.8, \\\n",
    "    objective= 'binary:logistic', nthread=4, scale_pos_weight=1, seed=27), \\\n",
    "    param_grid = param_test1, scoring='log_loss',n_jobs=4,iid=False, cv=5)\n",
    "\n",
    "gsearch1.fit(X_train, target)\n",
    "\n",
    "gsearch1.grid_scores_, gsearch1.best_params_, gsearch1.best_score_"
   ]
  },
  {
   "cell_type": "code",
   "execution_count": 65,
   "metadata": {
    "collapsed": false
   },
   "outputs": [],
   "source": [
    "\n",
    "# XGBoost params:\n",
    "xgboost_params = { \n",
    "    \"objective\": \"binary:logistic\",\n",
    "    \"booster\": \"gbtree\",  # model type, tree-based or linear\n",
    "    \"eval_metric\": \"logloss\",  #scoring metric: rmse,error,logloss,mlogloss,auc\n",
    "    \"eta\": 0.1, # 0.06, #0.01, # learning rate\n",
    "    \"min_child_weight\": 10,  # min number of observations in a node, be tunned\n",
    "    \"subsample\": 0.75,   # number of rows, be tunned\n",
    "    \"colsample_bytree\": 0.68,  # number of columns, be tunned\n",
    "    \"max_depth\": 20,   # depth of tree, typical value 3-10, be tunned\n",
    "    \"gamma\" : 0,    # min loss reduction to make a split, be tunned\n",
    "    \"seed\": 0,\n",
    "    \"scale_pos_weight\": 0 # > 0 value in case of high class imbalance\n",
    "}"
   ]
  },
  {
   "cell_type": "code",
   "execution_count": 66,
   "metadata": {
    "collapsed": false
   },
   "outputs": [
    {
     "name": "stdout",
     "output_type": "stream",
     "text": [
      "Fit the model...\n",
      "'[0]\\teval-logloss:0.472443'\n"
     ]
    }
   ],
   "source": [
    "xgtrain = xgb.DMatrix(X_train.values, target.values)\n",
    "xgtest = xgb.DMatrix(X_test.values, target_test.values)\n",
    "\n",
    "# Fitting the model\n",
    "print('Fit the model...')\n",
    "boost_round = 100 #1800 CHANGE THIS BEFORE START\n",
    "clf = xgb.train(xgboost_params,xgtrain,num_boost_round=boost_round,verbose_eval=True,maximize=False)\n",
    "\n",
    "#eval(data, name='eval', iteration=0)\n",
    "score = clf.eval(xgtest)\n",
    "\n",
    "pp.pprint(score)\n",
    "\n",
    "#Make predict\n",
    "#print('Predict...')\n",
    "#xgb_predict = clf.predict(xgtest, ntree_limit=clf.best_iteration)\n",
    "\n",
    "# Save results\n",
    "#predictions_file = open(\"simple_xgboost_result.csv\", \"w\")\n",
    "#open_file_object = csv.writer(predictions_file)\n",
    "#open_file_object.writerow([\"ID\", \"PredictedProb\"])\n",
    "#open_file_object.writerows(zip(ids, test_preds))\n",
    "#predictions_file.close()\n",
    "#\n",
    "#print('Done.')\n"
   ]
  },
  {
   "cell_type": "code",
   "execution_count": null,
   "metadata": {
    "collapsed": true
   },
   "outputs": [],
   "source": []
  }
 ],
 "metadata": {
  "kernelspec": {
   "display_name": "Python 2",
   "language": "python",
   "name": "python2"
  },
  "language_info": {
   "codemirror_mode": {
    "name": "ipython",
    "version": 2
   },
   "file_extension": ".py",
   "mimetype": "text/x-python",
   "name": "python",
   "nbconvert_exporter": "python",
   "pygments_lexer": "ipython2",
   "version": "2.7.11"
  }
 },
 "nbformat": 4,
 "nbformat_minor": 0
}
