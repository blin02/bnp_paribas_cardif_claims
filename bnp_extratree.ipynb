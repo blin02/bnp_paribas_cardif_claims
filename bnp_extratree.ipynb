{
 "cells": [
  {
   "cell_type": "markdown",
   "metadata": {
    "collapsed": true
   },
   "source": [
    "In this build, we are building a xgboost model. \n",
    "\n",
    "The imputation methods are:\n",
    "- Categorical: fill in with \"NA\"\n",
    "- Numeric: fill in with -999"
   ]
  },
  {
   "cell_type": "code",
   "execution_count": 1,
   "metadata": {
    "collapsed": false
   },
   "outputs": [
    {
     "name": "stderr",
     "output_type": "stream",
     "text": [
      "/Users/binlin/anaconda/lib/python2.7/site-packages/matplotlib/font_manager.py:273: UserWarning: Matplotlib is building the font cache using fc-list. This may take a moment.\n",
      "  warnings.warn('Matplotlib is building the font cache using fc-list. This may take a moment.')\n"
     ]
    }
   ],
   "source": [
    "import pandas as pd\n",
    "import scipy as sp\n",
    "import numpy as np\n",
    "from sklearn import preprocessing\n",
    "from sklearn.ensemble import RandomForestClassifier\n",
    "from sklearn import cross_validation\n",
    "import xgboost as xgb\n",
    "import pprint as pp\n",
    "from sklearn import cross_validation, metrics   #Additional scklearn functions\n",
    "from sklearn.grid_search import GridSearchCV   #Perforing grid search\n",
    "import bnp_helper\n",
    "import common_helper\n",
    "import random\n",
    "import os\n",
    "import datetime\n",
    "from sklearn.externals import joblib\n",
    "from matplotlib.pylab import rcParams\n",
    "from sklearn.ensemble import ExtraTreesClassifier\n",
    "\n",
    "%matplotlib inline\n",
    "rcParams['figure.figsize'] = 16, 4\n",
    "pd.set_option('display.max_columns', 500)"
   ]
  },
  {
   "cell_type": "code",
   "execution_count": null,
   "metadata": {
    "collapsed": false
   },
   "outputs": [],
   "source": [
    "################### Combine the training set and test set to fix the unmatched categories ############\n",
    "train_df_raw = pd.read_csv(\"../data/train.csv\")\n",
    "test_df_raw = pd.read_csv(\"../data/test.csv\")\n",
    "\n",
    "df_raw_combined = pd.concat([train_df_raw, test_df_raw], axis = 0)\n",
    "\n",
    "########### Clean and Impute (Combined) #############\n",
    "df_combinded = bnp_helper.clean(df_raw_combined, drop_collinearity = True, inplace = True)\n",
    "df_combinded = bnp_helper.impute_cate_with_na_numeric_with_outlier(df_combinded)\n",
    "\n",
    "################ Convert text to number (Combined) ################\n",
    "df_combinded = common_helper.dummify(df_combinded, bnp_helper.get_categorical_variables(df_combinded))\n",
    "print df_combinded.shape\n",
    "df_combinded.head()"
   ]
  },
  {
   "cell_type": "code",
   "execution_count": 72,
   "metadata": {
    "collapsed": true
   },
   "outputs": [],
   "source": [
    "train_df = df_combinded[-df_raw_combined['target'].isnull()]\n",
    "test_df = df_combinded[df_raw_combined['target'].isnull()]\n",
    "\n",
    "train_df_sample = train_df.sample(50000, random_state = 0)\n",
    "#train_df_sample = train_df\n",
    "target_train = train_df_sample['target']\n",
    "X_train = train_df_sample.drop(['ID', 'target'], axis = 1)"
   ]
  },
  {
   "cell_type": "code",
   "execution_count": 3,
   "metadata": {
    "collapsed": true
   },
   "outputs": [],
   "source": [
    "############ Create a ExtraTreesClassifier with initial parameters ########\n",
    "model = ExtraTreesClassifier(    \n",
    "    n_estimators = 100,             # Number of trees\n",
    "    max_features = 0.8,             # Number of features for each tree\n",
    "    max_depth = 10,                 # Depth of the tree\n",
    "    min_samples_split = 2,          # Minimum number of samples required to split an internal node\n",
    "    min_samples_leaf = 1,           # Minimum number of samples in a leaf\n",
    "    min_weight_fraction_leaf = 0,   # Minimum weighted fraction of the input samples required to be at a leaf node. \n",
    "    #max_leaf_nodes = None,\n",
    "    criterion = 'gini',             # Use gini, not going to tune it\n",
    "    random_state = 27,\n",
    "    n_jobs = -1)"
   ]
  },
  {
   "cell_type": "code",
   "execution_count": 73,
   "metadata": {
    "collapsed": false
   },
   "outputs": [
    {
     "name": "stdout",
     "output_type": "stream",
     "text": [
      "model run time: 0:00:17.930121\n",
      "ExtraTreesClassifier(bootstrap=False, class_weight=None, criterion='gini',\n",
      "           max_depth=10, max_features=0.8, max_leaf_nodes=None,\n",
      "           min_samples_leaf=1, min_samples_split=2,\n",
      "           min_weight_fraction_leaf=0, n_estimators=100, n_jobs=-1,\n",
      "           oob_score=False, random_state=27, verbose=0, warm_start=False)\n",
      "Log Loss: 0.443268400674\n",
      "Accuracy : 0.7917\n"
     ]
    },
    {
     "data": {
      "image/png": "[encoded data removed]",
      "text/plain": [
       "<matplotlib.figure.Figure at 0x120068990>"
      ]
     },
     "metadata": {},
     "output_type": "display_data"
    }
   ],
   "source": [
    "############### First try ############\n",
    "start = datetime.datetime.now()\n",
    "model_fit = model.fit(X_train, target_train)\n",
    "end = datetime.datetime.now()\n",
    "print \"model run time: {}\".format(end - start)\n",
    "\n",
    "print model_fit\n",
    "\n",
    "predprob_train = model.predict_proba(X_train)\n",
    "log_loss = metrics.log_loss(target_train, predprob_train)\n",
    "print \"Log Loss: {}\".format(log_loss)\n",
    "\n",
    "pred_train = model.predict(X_train)\n",
    "print \"Accuracy : %.4g\" % metrics.accuracy_score(target_train, pred_train)\n",
    "\n",
    "# Plot feature importance\n",
    "feature_score = common_helper.get_feature_importance(train_df_sample, model)\n",
    "bnp_helper.feature_importance_plot(dict(feature_score), 50)"
   ]
  },
  {
   "cell_type": "code",
   "execution_count": 4,
   "metadata": {
    "collapsed": false
   },
   "outputs": [],
   "source": [
    "train_df = df_combinded[-df_raw_combined['target'].isnull()]\n",
    "test_df = df_combinded[df_raw_combined['target'].isnull()]\n",
    "\n",
    "train_df_sample = train_df.sample(50000, random_state = 0)\n",
    "#train_df_sample = train_df\n",
    "target_train = train_df_sample['target']\n",
    "X_train = train_df_sample.drop(['ID', 'target'], axis = 1)"
   ]
  },
  {
   "cell_type": "code",
   "execution_count": 5,
   "metadata": {
    "collapsed": false
   },
   "outputs": [
    {
     "name": "stdout",
     "output_type": "stream",
     "text": [
      "model training time: 2:12:58.617816\n",
      "[mean: -0.49928, std: 0.00249, params: {'max_features': 0.6, 'min_samples_split': 5, 'max_depth': 5, 'min_samples_leaf': 5},\n",
      " mean: -0.49928, std: 0.00249, params: {'max_features': 0.6, 'min_samples_split': 10, 'max_depth': 5, 'min_samples_leaf': 5},\n",
      " mean: -0.49924, std: 0.00245, params: {'max_features': 0.6, 'min_samples_split': 50, 'max_depth': 5, 'min_samples_leaf': 5},\n",
      " mean: -0.49920, std: 0.00251, params: {'max_features': 0.6, 'min_samples_split': 5, 'max_depth': 5, 'min_samples_leaf': 10},\n",
      " mean: -0.49920, std: 0.00251, params: {'max_features': 0.6, 'min_samples_split': 10, 'max_depth': 5, 'min_samples_leaf': 10},\n",
      " mean: -0.49911, std: 0.00246, params: {'max_features': 0.6, 'min_samples_split': 50, 'max_depth': 5, 'min_samples_leaf': 10},\n",
      " mean: -0.49920, std: 0.00248, params: {'max_features': 0.6, 'min_samples_split': 5, 'max_depth': 5, 'min_samples_leaf': 50},\n",
      " mean: -0.49920, std: 0.00248, params: {'max_features': 0.6, 'min_samples_split': 10, 'max_depth': 5, 'min_samples_leaf': 50},\n",
      " mean: -0.49920, std: 0.00248, params: {'max_features': 0.6, 'min_samples_split': 50, 'max_depth': 5, 'min_samples_leaf': 50},\n",
      " mean: -0.49836, std: 0.00201, params: {'max_features': 0.75, 'min_samples_split': 5, 'max_depth': 5, 'min_samples_leaf': 5},\n",
      " mean: -0.49836, std: 0.00201, params: {'max_features': 0.75, 'min_samples_split': 10, 'max_depth': 5, 'min_samples_leaf': 5},\n",
      " mean: -0.49831, std: 0.00200, params: {'max_features': 0.75, 'min_samples_split': 50, 'max_depth': 5, 'min_samples_leaf': 5},\n",
      " mean: -0.49822, std: 0.00202, params: {'max_features': 0.75, 'min_samples_split': 5, 'max_depth': 5, 'min_samples_leaf': 10},\n",
      " mean: -0.49822, std: 0.00202, params: {'max_features': 0.75, 'min_samples_split': 10, 'max_depth': 5, 'min_samples_leaf': 10},\n",
      " mean: -0.49816, std: 0.00204, params: {'max_features': 0.75, 'min_samples_split': 50, 'max_depth': 5, 'min_samples_leaf': 10},\n",
      " mean: -0.49802, std: 0.00214, params: {'max_features': 0.75, 'min_samples_split': 5, 'max_depth': 5, 'min_samples_leaf': 50},\n",
      " mean: -0.49802, std: 0.00214, params: {'max_features': 0.75, 'min_samples_split': 10, 'max_depth': 5, 'min_samples_leaf': 50},\n",
      " mean: -0.49802, std: 0.00214, params: {'max_features': 0.75, 'min_samples_split': 50, 'max_depth': 5, 'min_samples_leaf': 50},\n",
      " mean: -0.49832, std: 0.00257, params: {'max_features': 0.9, 'min_samples_split': 5, 'max_depth': 5, 'min_samples_leaf': 5},\n",
      " mean: -0.49832, std: 0.00257, params: {'max_features': 0.9, 'min_samples_split': 10, 'max_depth': 5, 'min_samples_leaf': 5},\n",
      " mean: -0.49831, std: 0.00263, params: {'max_features': 0.9, 'min_samples_split': 50, 'max_depth': 5, 'min_samples_leaf': 5},\n",
      " mean: -0.49819, std: 0.00266, params: {'max_features': 0.9, 'min_samples_split': 5, 'max_depth': 5, 'min_samples_leaf': 10},\n",
      " mean: -0.49819, std: 0.00266, params: {'max_features': 0.9, 'min_samples_split': 10, 'max_depth': 5, 'min_samples_leaf': 10},\n",
      " mean: -0.49817, std: 0.00265, params: {'max_features': 0.9, 'min_samples_split': 50, 'max_depth': 5, 'min_samples_leaf': 10},\n",
      " mean: -0.49811, std: 0.00257, params: {'max_features': 0.9, 'min_samples_split': 5, 'max_depth': 5, 'min_samples_leaf': 50},\n",
      " mean: -0.49811, std: 0.00257, params: {'max_features': 0.9, 'min_samples_split': 10, 'max_depth': 5, 'min_samples_leaf': 50},\n",
      " mean: -0.49811, std: 0.00257, params: {'max_features': 0.9, 'min_samples_split': 50, 'max_depth': 5, 'min_samples_leaf': 50},\n",
      " mean: -0.47485, std: 0.00302, params: {'max_features': 0.6, 'min_samples_split': 5, 'max_depth': 15, 'min_samples_leaf': 5},\n",
      " mean: -0.47485, std: 0.00302, params: {'max_features': 0.6, 'min_samples_split': 10, 'max_depth': 15, 'min_samples_leaf': 5},\n",
      " mean: -0.47493, std: 0.00268, params: {'max_features': 0.6, 'min_samples_split': 50, 'max_depth': 15, 'min_samples_leaf': 5},\n",
      " mean: -0.47472, std: 0.00297, params: {'max_features': 0.6, 'min_samples_split': 5, 'max_depth': 15, 'min_samples_leaf': 10},\n",
      " mean: -0.47472, std: 0.00297, params: {'max_features': 0.6, 'min_samples_split': 10, 'max_depth': 15, 'min_samples_leaf': 10},\n",
      " mean: -0.47447, std: 0.00313, params: {'max_features': 0.6, 'min_samples_split': 50, 'max_depth': 15, 'min_samples_leaf': 10},\n",
      " mean: -0.47628, std: 0.00248, params: {'max_features': 0.6, 'min_samples_split': 5, 'max_depth': 15, 'min_samples_leaf': 50},\n",
      " mean: -0.47628, std: 0.00248, params: {'max_features': 0.6, 'min_samples_split': 10, 'max_depth': 15, 'min_samples_leaf': 50},\n",
      " mean: -0.47628, std: 0.00248, params: {'max_features': 0.6, 'min_samples_split': 50, 'max_depth': 15, 'min_samples_leaf': 50},\n",
      " mean: -0.47476, std: 0.00309, params: {'max_features': 0.75, 'min_samples_split': 5, 'max_depth': 15, 'min_samples_leaf': 5},\n",
      " mean: -0.47476, std: 0.00309, params: {'max_features': 0.75, 'min_samples_split': 10, 'max_depth': 15, 'min_samples_leaf': 5},\n",
      " mean: -0.47509, std: 0.00296, params: {'max_features': 0.75, 'min_samples_split': 50, 'max_depth': 15, 'min_samples_leaf': 5},\n",
      " mean: -0.47455, std: 0.00297, params: {'max_features': 0.75, 'min_samples_split': 5, 'max_depth': 15, 'min_samples_leaf': 10},\n",
      " mean: -0.47455, std: 0.00297, params: {'max_features': 0.75, 'min_samples_split': 10, 'max_depth': 15, 'min_samples_leaf': 10},\n",
      " mean: -0.47470, std: 0.00294, params: {'max_features': 0.75, 'min_samples_split': 50, 'max_depth': 15, 'min_samples_leaf': 10},\n",
      " mean: -0.47452, std: 0.00255, params: {'max_features': 0.75, 'min_samples_split': 5, 'max_depth': 15, 'min_samples_leaf': 50},\n",
      " mean: -0.47452, std: 0.00255, params: {'max_features': 0.75, 'min_samples_split': 10, 'max_depth': 15, 'min_samples_leaf': 50},\n",
      " mean: -0.47452, std: 0.00255, params: {'max_features': 0.75, 'min_samples_split': 50, 'max_depth': 15, 'min_samples_leaf': 50},\n",
      " mean: -0.47863, std: 0.00397, params: {'max_features': 0.9, 'min_samples_split': 5, 'max_depth': 15, 'min_samples_leaf': 5},\n",
      " mean: -0.47863, std: 0.00397, params: {'max_features': 0.9, 'min_samples_split': 10, 'max_depth': 15, 'min_samples_leaf': 5},\n",
      " mean: -0.47627, std: 0.00383, params: {'max_features': 0.9, 'min_samples_split': 50, 'max_depth': 15, 'min_samples_leaf': 5},\n",
      " mean: -0.47589, std: 0.00377, params: {'max_features': 0.9, 'min_samples_split': 5, 'max_depth': 15, 'min_samples_leaf': 10},\n",
      " mean: -0.47589, std: 0.00377, params: {'max_features': 0.9, 'min_samples_split': 10, 'max_depth': 15, 'min_samples_leaf': 10},\n",
      " mean: -0.47525, std: 0.00336, params: {'max_features': 0.9, 'min_samples_split': 50, 'max_depth': 15, 'min_samples_leaf': 10},\n",
      " mean: -0.47415, std: 0.00287, params: {'max_features': 0.9, 'min_samples_split': 5, 'max_depth': 15, 'min_samples_leaf': 50},\n",
      " mean: -0.47415, std: 0.00287, params: {'max_features': 0.9, 'min_samples_split': 10, 'max_depth': 15, 'min_samples_leaf': 50},\n",
      " mean: -0.47415, std: 0.00287, params: {'max_features': 0.9, 'min_samples_split': 50, 'max_depth': 15, 'min_samples_leaf': 50},\n",
      " mean: -0.47927, std: 0.00250, params: {'max_features': 0.6, 'min_samples_split': 5, 'max_depth': 25, 'min_samples_leaf': 5},\n",
      " mean: -0.47927, std: 0.00250, params: {'max_features': 0.6, 'min_samples_split': 10, 'max_depth': 25, 'min_samples_leaf': 5},\n",
      " mean: -0.47532, std: 0.00299, params: {'max_features': 0.6, 'min_samples_split': 50, 'max_depth': 25, 'min_samples_leaf': 5},\n",
      " mean: -0.47509, std: 0.00344, params: {'max_features': 0.6, 'min_samples_split': 5, 'max_depth': 25, 'min_samples_leaf': 10},\n",
      " mean: -0.47509, std: 0.00344, params: {'max_features': 0.6, 'min_samples_split': 10, 'max_depth': 25, 'min_samples_leaf': 10},\n",
      " mean: -0.47440, std: 0.00311, params: {'max_features': 0.6, 'min_samples_split': 50, 'max_depth': 25, 'min_samples_leaf': 10},\n",
      " mean: -0.47540, std: 0.00274, params: {'max_features': 0.6, 'min_samples_split': 5, 'max_depth': 25, 'min_samples_leaf': 50},\n",
      " mean: -0.47540, std: 0.00274, params: {'max_features': 0.6, 'min_samples_split': 10, 'max_depth': 25, 'min_samples_leaf': 50},\n",
      " mean: -0.47540, std: 0.00274, params: {'max_features': 0.6, 'min_samples_split': 50, 'max_depth': 25, 'min_samples_leaf': 50},\n",
      " mean: -0.48123, std: 0.00315, params: {'max_features': 0.75, 'min_samples_split': 5, 'max_depth': 25, 'min_samples_leaf': 5},\n",
      " mean: -0.48123, std: 0.00315, params: {'max_features': 0.75, 'min_samples_split': 10, 'max_depth': 25, 'min_samples_leaf': 5},\n",
      " mean: -0.47651, std: 0.00343, params: {'max_features': 0.75, 'min_samples_split': 50, 'max_depth': 25, 'min_samples_leaf': 5},\n",
      " mean: -0.47577, std: 0.00242, params: {'max_features': 0.75, 'min_samples_split': 5, 'max_depth': 25, 'min_samples_leaf': 10},\n",
      " mean: -0.47577, std: 0.00242, params: {'max_features': 0.75, 'min_samples_split': 10, 'max_depth': 25, 'min_samples_leaf': 10},\n",
      " mean: -0.47489, std: 0.00371, params: {'max_features': 0.75, 'min_samples_split': 50, 'max_depth': 25, 'min_samples_leaf': 10},\n",
      " mean: -0.47410, std: 0.00266, params: {'max_features': 0.75, 'min_samples_split': 5, 'max_depth': 25, 'min_samples_leaf': 50},\n",
      " mean: -0.47410, std: 0.00266, params: {'max_features': 0.75, 'min_samples_split': 10, 'max_depth': 25, 'min_samples_leaf': 50},\n",
      " mean: -0.47410, std: 0.00266, params: {'max_features': 0.75, 'min_samples_split': 50, 'max_depth': 25, 'min_samples_leaf': 50},\n",
      " mean: -0.48521, std: 0.00481, params: {'max_features': 0.9, 'min_samples_split': 5, 'max_depth': 25, 'min_samples_leaf': 5},\n",
      " mean: -0.48521, std: 0.00481, params: {'max_features': 0.9, 'min_samples_split': 10, 'max_depth': 25, 'min_samples_leaf': 5},\n",
      " mean: -0.47937, std: 0.00478, params: {'max_features': 0.9, 'min_samples_split': 50, 'max_depth': 25, 'min_samples_leaf': 5},\n",
      " mean: -0.47786, std: 0.00239, params: {'max_features': 0.9, 'min_samples_split': 5, 'max_depth': 25, 'min_samples_leaf': 10},\n",
      " mean: -0.47786, std: 0.00239, params: {'max_features': 0.9, 'min_samples_split': 10, 'max_depth': 25, 'min_samples_leaf': 10},\n",
      " mean: -0.47679, std: 0.00373, params: {'max_features': 0.9, 'min_samples_split': 50, 'max_depth': 25, 'min_samples_leaf': 10},\n",
      " mean: -0.47406, std: 0.00316, params: {'max_features': 0.9, 'min_samples_split': 5, 'max_depth': 25, 'min_samples_leaf': 50},\n",
      " mean: -0.47406, std: 0.00316, params: {'max_features': 0.9, 'min_samples_split': 10, 'max_depth': 25, 'min_samples_leaf': 50},\n",
      " mean: -0.47406, std: 0.00316, params: {'max_features': 0.9, 'min_samples_split': 50, 'max_depth': 25, 'min_samples_leaf': 50}]\n",
      "Best combination:  {'max_features': 0.9, 'min_samples_split': 5, 'max_depth': 25, 'min_samples_leaf': 50}\n",
      "Best Score -0.474055171532\n"
     ]
    }
   ],
   "source": [
    "####### Coarse Tune Parameters #######\n",
    "para_grid = [{    \n",
    "    'max_features': [0.6, 0.75, 0.9],  # Number of features for each tree\n",
    "    'max_depth': [5, 15, 25],          # Depth of the tree\n",
    "    'min_samples_split': [5, 10, 50],  # Minimum number of samples required to split an internal node\n",
    "    'min_samples_leaf': [5, 10, 50]    # Minimum number of samples in a leaf\n",
    "    }]\n",
    "\n",
    "start = datetime.datetime.now()\n",
    "para_search = GridSearchCV(model, para_grid, scoring = 'log_loss', cv = 5, n_jobs = 4).fit(X_train, target_train)\n",
    "end = datetime.datetime.now()\n",
    "print \"model training time: {}\".format(end - start)\n",
    "\n",
    "pp.pprint(para_search.grid_scores_)\n",
    "\n",
    "# best combinatin\n",
    "print 'Best combination: ', para_search.best_params_\n",
    "\n",
    "# best score\n",
    "print 'Best Score' , para_search.best_score_"
   ]
  },
  {
   "cell_type": "code",
   "execution_count": 6,
   "metadata": {
    "collapsed": false
   },
   "outputs": [
    {
     "name": "stdout",
     "output_type": "stream",
     "text": [
      "model training time: 3:02:57.592545\n",
      "[mean: -0.47385, std: 0.00298, params: {'max_features': 0.85, 'min_samples_split': 3, 'max_depth': 20, 'min_samples_leaf': 45},\n",
      " mean: -0.47385, std: 0.00298, params: {'max_features': 0.85, 'min_samples_split': 5, 'max_depth': 20, 'min_samples_leaf': 45},\n",
      " mean: -0.47385, std: 0.00298, params: {'max_features': 0.85, 'min_samples_split': 7, 'max_depth': 20, 'min_samples_leaf': 45},\n",
      " mean: -0.47402, std: 0.00290, params: {'max_features': 0.85, 'min_samples_split': 3, 'max_depth': 20, 'min_samples_leaf': 50},\n",
      " mean: -0.47402, std: 0.00290, params: {'max_features': 0.85, 'min_samples_split': 5, 'max_depth': 20, 'min_samples_leaf': 50},\n",
      " mean: -0.47402, std: 0.00290, params: {'max_features': 0.85, 'min_samples_split': 7, 'max_depth': 20, 'min_samples_leaf': 50},\n",
      " mean: -0.47406, std: 0.00259, params: {'max_features': 0.85, 'min_samples_split': 3, 'max_depth': 20, 'min_samples_leaf': 55},\n",
      " mean: -0.47406, std: 0.00259, params: {'max_features': 0.85, 'min_samples_split': 5, 'max_depth': 20, 'min_samples_leaf': 55},\n",
      " mean: -0.47406, std: 0.00259, params: {'max_features': 0.85, 'min_samples_split': 7, 'max_depth': 20, 'min_samples_leaf': 55},\n",
      " mean: -0.47398, std: 0.00310, params: {'max_features': 0.9, 'min_samples_split': 3, 'max_depth': 20, 'min_samples_leaf': 45},\n",
      " mean: -0.47398, std: 0.00310, params: {'max_features': 0.9, 'min_samples_split': 5, 'max_depth': 20, 'min_samples_leaf': 45},\n",
      " mean: -0.47398, std: 0.00310, params: {'max_features': 0.9, 'min_samples_split': 7, 'max_depth': 20, 'min_samples_leaf': 45},\n",
      " mean: -0.47447, std: 0.00321, params: {'max_features': 0.9, 'min_samples_split': 3, 'max_depth': 20, 'min_samples_leaf': 50},\n",
      " mean: -0.47447, std: 0.00321, params: {'max_features': 0.9, 'min_samples_split': 5, 'max_depth': 20, 'min_samples_leaf': 50},\n",
      " mean: -0.47447, std: 0.00321, params: {'max_features': 0.9, 'min_samples_split': 7, 'max_depth': 20, 'min_samples_leaf': 50},\n",
      " mean: -0.47424, std: 0.00292, params: {'max_features': 0.9, 'min_samples_split': 3, 'max_depth': 20, 'min_samples_leaf': 55},\n",
      " mean: -0.47424, std: 0.00292, params: {'max_features': 0.9, 'min_samples_split': 5, 'max_depth': 20, 'min_samples_leaf': 55},\n",
      " mean: -0.47424, std: 0.00292, params: {'max_features': 0.9, 'min_samples_split': 7, 'max_depth': 20, 'min_samples_leaf': 55},\n",
      " mean: -0.47367, std: 0.00290, params: {'max_features': 0.95, 'min_samples_split': 3, 'max_depth': 20, 'min_samples_leaf': 45},\n",
      " mean: -0.47367, std: 0.00290, params: {'max_features': 0.95, 'min_samples_split': 5, 'max_depth': 20, 'min_samples_leaf': 45},\n",
      " mean: -0.47367, std: 0.00290, params: {'max_features': 0.95, 'min_samples_split': 7, 'max_depth': 20, 'min_samples_leaf': 45},\n",
      " mean: -0.47375, std: 0.00308, params: {'max_features': 0.95, 'min_samples_split': 3, 'max_depth': 20, 'min_samples_leaf': 50},\n",
      " mean: -0.47375, std: 0.00308, params: {'max_features': 0.95, 'min_samples_split': 5, 'max_depth': 20, 'min_samples_leaf': 50},\n",
      " mean: -0.47375, std: 0.00308, params: {'max_features': 0.95, 'min_samples_split': 7, 'max_depth': 20, 'min_samples_leaf': 50},\n",
      " mean: -0.47441, std: 0.00280, params: {'max_features': 0.95, 'min_samples_split': 3, 'max_depth': 20, 'min_samples_leaf': 55},\n",
      " mean: -0.47441, std: 0.00280, params: {'max_features': 0.95, 'min_samples_split': 5, 'max_depth': 20, 'min_samples_leaf': 55},\n",
      " mean: -0.47441, std: 0.00280, params: {'max_features': 0.95, 'min_samples_split': 7, 'max_depth': 20, 'min_samples_leaf': 55},\n",
      " mean: -0.47365, std: 0.00290, params: {'max_features': 0.85, 'min_samples_split': 3, 'max_depth': 25, 'min_samples_leaf': 45},\n",
      " mean: -0.47365, std: 0.00290, params: {'max_features': 0.85, 'min_samples_split': 5, 'max_depth': 25, 'min_samples_leaf': 45},\n",
      " mean: -0.47365, std: 0.00290, params: {'max_features': 0.85, 'min_samples_split': 7, 'max_depth': 25, 'min_samples_leaf': 45},\n",
      " mean: -0.47440, std: 0.00308, params: {'max_features': 0.85, 'min_samples_split': 3, 'max_depth': 25, 'min_samples_leaf': 50},\n",
      " mean: -0.47440, std: 0.00308, params: {'max_features': 0.85, 'min_samples_split': 5, 'max_depth': 25, 'min_samples_leaf': 50},\n",
      " mean: -0.47440, std: 0.00308, params: {'max_features': 0.85, 'min_samples_split': 7, 'max_depth': 25, 'min_samples_leaf': 50},\n",
      " mean: -0.47420, std: 0.00259, params: {'max_features': 0.85, 'min_samples_split': 3, 'max_depth': 25, 'min_samples_leaf': 55},\n",
      " mean: -0.47420, std: 0.00259, params: {'max_features': 0.85, 'min_samples_split': 5, 'max_depth': 25, 'min_samples_leaf': 55},\n",
      " mean: -0.47420, std: 0.00259, params: {'max_features': 0.85, 'min_samples_split': 7, 'max_depth': 25, 'min_samples_leaf': 55},\n",
      " mean: -0.47381, std: 0.00312, params: {'max_features': 0.9, 'min_samples_split': 3, 'max_depth': 25, 'min_samples_leaf': 45},\n",
      " mean: -0.47381, std: 0.00312, params: {'max_features': 0.9, 'min_samples_split': 5, 'max_depth': 25, 'min_samples_leaf': 45},\n",
      " mean: -0.47381, std: 0.00312, params: {'max_features': 0.9, 'min_samples_split': 7, 'max_depth': 25, 'min_samples_leaf': 45},\n",
      " mean: -0.47406, std: 0.00316, params: {'max_features': 0.9, 'min_samples_split': 3, 'max_depth': 25, 'min_samples_leaf': 50},\n",
      " mean: -0.47406, std: 0.00316, params: {'max_features': 0.9, 'min_samples_split': 5, 'max_depth': 25, 'min_samples_leaf': 50},\n",
      " mean: -0.47406, std: 0.00316, params: {'max_features': 0.9, 'min_samples_split': 7, 'max_depth': 25, 'min_samples_leaf': 50},\n",
      " mean: -0.47414, std: 0.00273, params: {'max_features': 0.9, 'min_samples_split': 3, 'max_depth': 25, 'min_samples_leaf': 55},\n",
      " mean: -0.47414, std: 0.00273, params: {'max_features': 0.9, 'min_samples_split': 5, 'max_depth': 25, 'min_samples_leaf': 55},\n",
      " mean: -0.47414, std: 0.00273, params: {'max_features': 0.9, 'min_samples_split': 7, 'max_depth': 25, 'min_samples_leaf': 55},\n",
      " mean: -0.47432, std: 0.00306, params: {'max_features': 0.95, 'min_samples_split': 3, 'max_depth': 25, 'min_samples_leaf': 45},\n",
      " mean: -0.47432, std: 0.00306, params: {'max_features': 0.95, 'min_samples_split': 5, 'max_depth': 25, 'min_samples_leaf': 45},\n",
      " mean: -0.47432, std: 0.00306, params: {'max_features': 0.95, 'min_samples_split': 7, 'max_depth': 25, 'min_samples_leaf': 45},\n",
      " mean: -0.47456, std: 0.00283, params: {'max_features': 0.95, 'min_samples_split': 3, 'max_depth': 25, 'min_samples_leaf': 50},\n",
      " mean: -0.47456, std: 0.00283, params: {'max_features': 0.95, 'min_samples_split': 5, 'max_depth': 25, 'min_samples_leaf': 50},\n",
      " mean: -0.47456, std: 0.00283, params: {'max_features': 0.95, 'min_samples_split': 7, 'max_depth': 25, 'min_samples_leaf': 50},\n",
      " mean: -0.47450, std: 0.00267, params: {'max_features': 0.95, 'min_samples_split': 3, 'max_depth': 25, 'min_samples_leaf': 55},\n",
      " mean: -0.47450, std: 0.00267, params: {'max_features': 0.95, 'min_samples_split': 5, 'max_depth': 25, 'min_samples_leaf': 55},\n",
      " mean: -0.47450, std: 0.00267, params: {'max_features': 0.95, 'min_samples_split': 7, 'max_depth': 25, 'min_samples_leaf': 55},\n",
      " mean: -0.47366, std: 0.00300, params: {'max_features': 0.85, 'min_samples_split': 3, 'max_depth': 30, 'min_samples_leaf': 45},\n",
      " mean: -0.47366, std: 0.00300, params: {'max_features': 0.85, 'min_samples_split': 5, 'max_depth': 30, 'min_samples_leaf': 45},\n",
      " mean: -0.47366, std: 0.00300, params: {'max_features': 0.85, 'min_samples_split': 7, 'max_depth': 30, 'min_samples_leaf': 45},\n",
      " mean: -0.47380, std: 0.00289, params: {'max_features': 0.85, 'min_samples_split': 3, 'max_depth': 30, 'min_samples_leaf': 50},\n",
      " mean: -0.47380, std: 0.00289, params: {'max_features': 0.85, 'min_samples_split': 5, 'max_depth': 30, 'min_samples_leaf': 50},\n",
      " mean: -0.47380, std: 0.00289, params: {'max_features': 0.85, 'min_samples_split': 7, 'max_depth': 30, 'min_samples_leaf': 50},\n",
      " mean: -0.47414, std: 0.00264, params: {'max_features': 0.85, 'min_samples_split': 3, 'max_depth': 30, 'min_samples_leaf': 55},\n",
      " mean: -0.47414, std: 0.00264, params: {'max_features': 0.85, 'min_samples_split': 5, 'max_depth': 30, 'min_samples_leaf': 55},\n",
      " mean: -0.47414, std: 0.00264, params: {'max_features': 0.85, 'min_samples_split': 7, 'max_depth': 30, 'min_samples_leaf': 55},\n",
      " mean: -0.47386, std: 0.00299, params: {'max_features': 0.9, 'min_samples_split': 3, 'max_depth': 30, 'min_samples_leaf': 45},\n",
      " mean: -0.47386, std: 0.00299, params: {'max_features': 0.9, 'min_samples_split': 5, 'max_depth': 30, 'min_samples_leaf': 45},\n",
      " mean: -0.47386, std: 0.00299, params: {'max_features': 0.9, 'min_samples_split': 7, 'max_depth': 30, 'min_samples_leaf': 45},\n",
      " mean: -0.47395, std: 0.00299, params: {'max_features': 0.9, 'min_samples_split': 3, 'max_depth': 30, 'min_samples_leaf': 50},\n",
      " mean: -0.47395, std: 0.00299, params: {'max_features': 0.9, 'min_samples_split': 5, 'max_depth': 30, 'min_samples_leaf': 50},\n",
      " mean: -0.47395, std: 0.00299, params: {'max_features': 0.9, 'min_samples_split': 7, 'max_depth': 30, 'min_samples_leaf': 50},\n",
      " mean: -0.47414, std: 0.00267, params: {'max_features': 0.9, 'min_samples_split': 3, 'max_depth': 30, 'min_samples_leaf': 55},\n",
      " mean: -0.47414, std: 0.00267, params: {'max_features': 0.9, 'min_samples_split': 5, 'max_depth': 30, 'min_samples_leaf': 55},\n",
      " mean: -0.47414, std: 0.00267, params: {'max_features': 0.9, 'min_samples_split': 7, 'max_depth': 30, 'min_samples_leaf': 55},\n",
      " mean: -0.47447, std: 0.00302, params: {'max_features': 0.95, 'min_samples_split': 3, 'max_depth': 30, 'min_samples_leaf': 45},\n",
      " mean: -0.47447, std: 0.00302, params: {'max_features': 0.95, 'min_samples_split': 5, 'max_depth': 30, 'min_samples_leaf': 45},\n",
      " mean: -0.47447, std: 0.00302, params: {'max_features': 0.95, 'min_samples_split': 7, 'max_depth': 30, 'min_samples_leaf': 45},\n",
      " mean: -0.47398, std: 0.00290, params: {'max_features': 0.95, 'min_samples_split': 3, 'max_depth': 30, 'min_samples_leaf': 50},\n",
      " mean: -0.47398, std: 0.00290, params: {'max_features': 0.95, 'min_samples_split': 5, 'max_depth': 30, 'min_samples_leaf': 50},\n",
      " mean: -0.47398, std: 0.00290, params: {'max_features': 0.95, 'min_samples_split': 7, 'max_depth': 30, 'min_samples_leaf': 50},\n",
      " mean: -0.47439, std: 0.00272, params: {'max_features': 0.95, 'min_samples_split': 3, 'max_depth': 30, 'min_samples_leaf': 55},\n",
      " mean: -0.47439, std: 0.00272, params: {'max_features': 0.95, 'min_samples_split': 5, 'max_depth': 30, 'min_samples_leaf': 55},\n",
      " mean: -0.47439, std: 0.00272, params: {'max_features': 0.95, 'min_samples_split': 7, 'max_depth': 30, 'min_samples_leaf': 55}]\n",
      "Best combination:  {'max_features': 0.85, 'min_samples_split': 3, 'max_depth': 25, 'min_samples_leaf': 45}\n",
      "Best Score -0.473651913353\n"
     ]
    }
   ],
   "source": [
    "####### Now Fine Tune Parameters #######\n",
    "para_grid = [{    \n",
    "    'max_features': [0.85, 0.9, 0.95],  # Number of features for each tree\n",
    "    'max_depth': [20, 25, 30],         # Depth of the tree\n",
    "    'min_samples_split': [3, 5, 7], # Minimum number of samples required to split an internal node\n",
    "    'min_samples_leaf': [45, 50, 55]  # Minimum number of samples in a leaf\n",
    "    }]\n",
    "\n",
    "start = datetime.datetime.now()\n",
    "para_search = GridSearchCV(model, para_grid, scoring = 'log_loss', cv = 5, n_jobs = 4).fit(X_train, target_train)\n",
    "end = datetime.datetime.now()\n",
    "print \"model training time: {}\".format(end - start)\n",
    "\n",
    "pp.pprint(para_search.grid_scores_)\n",
    "\n",
    "# best combinatin\n",
    "print 'Best combination: ', para_search.best_params_\n",
    "\n",
    "# best score\n",
    "print 'Best Score' , para_search.best_score_"
   ]
  },
  {
   "cell_type": "code",
   "execution_count": 7,
   "metadata": {
    "collapsed": false
   },
   "outputs": [
    {
     "name": "stdout",
     "output_type": "stream",
     "text": [
      "model training time: 0:58:13.487039\n",
      "[mean: -0.47367, std: 0.00283, params: {'max_features': 0.83, 'min_samples_split': 2, 'max_depth': 25, 'min_samples_leaf': 42},\n",
      " mean: -0.47367, std: 0.00283, params: {'max_features': 0.83, 'min_samples_split': 3, 'max_depth': 25, 'min_samples_leaf': 42},\n",
      " mean: -0.47367, std: 0.00283, params: {'max_features': 0.83, 'min_samples_split': 4, 'max_depth': 25, 'min_samples_leaf': 42},\n",
      " mean: -0.47373, std: 0.00308, params: {'max_features': 0.83, 'min_samples_split': 2, 'max_depth': 25, 'min_samples_leaf': 45},\n",
      " mean: -0.47373, std: 0.00308, params: {'max_features': 0.83, 'min_samples_split': 3, 'max_depth': 25, 'min_samples_leaf': 45},\n",
      " mean: -0.47373, std: 0.00308, params: {'max_features': 0.83, 'min_samples_split': 4, 'max_depth': 25, 'min_samples_leaf': 45},\n",
      " mean: -0.47375, std: 0.00280, params: {'max_features': 0.83, 'min_samples_split': 2, 'max_depth': 25, 'min_samples_leaf': 48},\n",
      " mean: -0.47375, std: 0.00280, params: {'max_features': 0.83, 'min_samples_split': 3, 'max_depth': 25, 'min_samples_leaf': 48},\n",
      " mean: -0.47375, std: 0.00280, params: {'max_features': 0.83, 'min_samples_split': 4, 'max_depth': 25, 'min_samples_leaf': 48},\n",
      " mean: -0.47395, std: 0.00279, params: {'max_features': 0.85, 'min_samples_split': 2, 'max_depth': 25, 'min_samples_leaf': 42},\n",
      " mean: -0.47395, std: 0.00279, params: {'max_features': 0.85, 'min_samples_split': 3, 'max_depth': 25, 'min_samples_leaf': 42},\n",
      " mean: -0.47395, std: 0.00279, params: {'max_features': 0.85, 'min_samples_split': 4, 'max_depth': 25, 'min_samples_leaf': 42},\n",
      " mean: -0.47365, std: 0.00290, params: {'max_features': 0.85, 'min_samples_split': 2, 'max_depth': 25, 'min_samples_leaf': 45},\n",
      " mean: -0.47365, std: 0.00290, params: {'max_features': 0.85, 'min_samples_split': 3, 'max_depth': 25, 'min_samples_leaf': 45},\n",
      " mean: -0.47365, std: 0.00290, params: {'max_features': 0.85, 'min_samples_split': 4, 'max_depth': 25, 'min_samples_leaf': 45},\n",
      " mean: -0.47362, std: 0.00289, params: {'max_features': 0.85, 'min_samples_split': 2, 'max_depth': 25, 'min_samples_leaf': 48},\n",
      " mean: -0.47362, std: 0.00289, params: {'max_features': 0.85, 'min_samples_split': 3, 'max_depth': 25, 'min_samples_leaf': 48},\n",
      " mean: -0.47362, std: 0.00289, params: {'max_features': 0.85, 'min_samples_split': 4, 'max_depth': 25, 'min_samples_leaf': 48},\n",
      " mean: -0.47507, std: 0.00161, params: {'max_features': 0.87, 'min_samples_split': 2, 'max_depth': 25, 'min_samples_leaf': 42},\n",
      " mean: -0.47507, std: 0.00161, params: {'max_features': 0.87, 'min_samples_split': 3, 'max_depth': 25, 'min_samples_leaf': 42},\n",
      " mean: -0.47507, std: 0.00161, params: {'max_features': 0.87, 'min_samples_split': 4, 'max_depth': 25, 'min_samples_leaf': 42},\n",
      " mean: -0.47354, std: 0.00293, params: {'max_features': 0.87, 'min_samples_split': 2, 'max_depth': 25, 'min_samples_leaf': 45},\n",
      " mean: -0.47354, std: 0.00293, params: {'max_features': 0.87, 'min_samples_split': 3, 'max_depth': 25, 'min_samples_leaf': 45},\n",
      " mean: -0.47354, std: 0.00293, params: {'max_features': 0.87, 'min_samples_split': 4, 'max_depth': 25, 'min_samples_leaf': 45},\n",
      " mean: -0.47368, std: 0.00256, params: {'max_features': 0.87, 'min_samples_split': 2, 'max_depth': 25, 'min_samples_leaf': 48},\n",
      " mean: -0.47368, std: 0.00256, params: {'max_features': 0.87, 'min_samples_split': 3, 'max_depth': 25, 'min_samples_leaf': 48},\n",
      " mean: -0.47368, std: 0.00256, params: {'max_features': 0.87, 'min_samples_split': 4, 'max_depth': 25, 'min_samples_leaf': 48}]\n",
      "Best combination:  {'max_features': 0.87, 'min_samples_split': 2, 'max_depth': 25, 'min_samples_leaf': 45}\n",
      "Best Score -0.473539680593\n"
     ]
    }
   ],
   "source": [
    "####### Now Fine Tune Parameters #######\n",
    "para_grid = [{    \n",
    "    'max_features': [0.83, 0.85, 0.87], # Number of features for each tree\n",
    "    'max_depth': [25],                  # Depth of the tree\n",
    "    'min_samples_split': [2, 3, 4],     # Minimum number of samples required to split an internal node\n",
    "    'min_samples_leaf': [42, 45, 48]    # Minimum number of samples in a leaf\n",
    "    }]\n",
    "\n",
    "start = datetime.datetime.now()\n",
    "para_search = GridSearchCV(model, para_grid, scoring = 'log_loss', cv = 5, n_jobs = 4).fit(X_train, target_train)\n",
    "end = datetime.datetime.now()\n",
    "print \"model training time: {}\".format(end - start)\n",
    "\n",
    "pp.pprint(para_search.grid_scores_)\n",
    "\n",
    "# best combinatin\n",
    "print 'Best combination: ', para_search.best_params_\n",
    "\n",
    "# best score\n",
    "print 'Best Score' , para_search.best_score_"
   ]
  },
  {
   "cell_type": "code",
   "execution_count": 10,
   "metadata": {
    "collapsed": false
   },
   "outputs": [
    {
     "name": "stdout",
     "output_type": "stream",
     "text": [
      "model training time: 0:07:16.096399\n",
      "[mean: -0.47371, std: 0.00310, params: {'max_features': 0.86, 'min_samples_split': 2, 'max_depth': 25, 'min_samples_leaf': 45},\n",
      " mean: -0.47354, std: 0.00293, params: {'max_features': 0.87, 'min_samples_split': 2, 'max_depth': 25, 'min_samples_leaf': 45},\n",
      " mean: -0.47354, std: 0.00313, params: {'max_features': 0.88, 'min_samples_split': 2, 'max_depth': 25, 'min_samples_leaf': 45}]\n",
      "Best combination:  {'max_features': 0.87, 'min_samples_split': 2, 'max_depth': 25, 'min_samples_leaf': 45}\n",
      "Best Score -0.473539680593\n"
     ]
    }
   ],
   "source": [
    "####### Now Fine Tune Parameters #######\n",
    "para_grid = [{    \n",
    "    'max_features': [0.86, 0.87, 0.88],  # Number of features for each tree\n",
    "    'max_depth': [25],                   # Depth of the tree\n",
    "    'min_samples_split': [2],            # Minimum number of samples required to split an internal node\n",
    "    'min_samples_leaf': [45]             # Minimum number of samples in a leaf\n",
    "    }]\n",
    "\n",
    "start = datetime.datetime.now()\n",
    "para_search = GridSearchCV(model, para_grid, scoring = 'log_loss', cv = 5, n_jobs = 4).fit(X_train, target_train)\n",
    "end = datetime.datetime.now()\n",
    "print \"model training time: {}\".format(end - start)\n",
    "\n",
    "pp.pprint(para_search.grid_scores_)\n",
    "\n",
    "# best combinatin\n",
    "print 'Best combination: ', para_search.best_params_\n",
    "\n",
    "# best score\n",
    "print 'Best Score' , para_search.best_score_"
   ]
  },
  {
   "cell_type": "code",
   "execution_count": 12,
   "metadata": {
    "collapsed": false
   },
   "outputs": [
    {
     "name": "stdout",
     "output_type": "stream",
     "text": [
      "model training time: 0:47:32.837845\n",
      "[mean: -0.47354, std: 0.00293, params: {'max_features': 0.87, 'min_samples_split': 2, 'n_estimators': 100, 'max_depth': 25, 'min_samples_leaf': 45},\n",
      " mean: -0.47342, std: 0.00310, params: {'max_features': 0.87, 'min_samples_split': 2, 'n_estimators': 300, 'max_depth': 25, 'min_samples_leaf': 45},\n",
      " mean: -0.47335, std: 0.00300, params: {'max_features': 0.87, 'min_samples_split': 2, 'n_estimators': 500, 'max_depth': 25, 'min_samples_leaf': 45},\n",
      " mean: -0.47331, std: 0.00300, params: {'max_features': 0.87, 'min_samples_split': 2, 'n_estimators': 700, 'max_depth': 25, 'min_samples_leaf': 45}]\n",
      "Best combination:  {'max_features': 0.87, 'min_samples_split': 2, 'n_estimators': 700, 'max_depth': 25, 'min_samples_leaf': 45}\n",
      "Best Score -0.473314161802\n"
     ]
    }
   ],
   "source": [
    "####### Now find a good number for number of trees #######\n",
    "para_grid = [{    \n",
    "    'n_estimators': [100, 300, 500, 700], \n",
    "    'max_features': [0.87],              # Number of features for each tree\n",
    "    'max_depth': [25],                   # Depth of the tree\n",
    "    'min_samples_split': [2],            # Minimum number of samples required to split an internal node\n",
    "    'min_samples_leaf': [45]             # Minimum number of samples in a leaf\n",
    "    }]\n",
    "\n",
    "start = datetime.datetime.now()\n",
    "para_search = GridSearchCV(model, para_grid, scoring = 'log_loss', cv = 5, n_jobs = 4).fit(X_train, target_train)\n",
    "end = datetime.datetime.now()\n",
    "print \"model training time: {}\".format(end - start)\n",
    "\n",
    "pp.pprint(para_search.grid_scores_)\n",
    "\n",
    "# best combinatin\n",
    "print 'Best combination: ', para_search.best_params_\n",
    "\n",
    "# best score\n",
    "print 'Best Score' , para_search.best_score_\n"
   ]
  },
  {
   "cell_type": "code",
   "execution_count": 51,
   "metadata": {
    "collapsed": true
   },
   "outputs": [],
   "source": [
    "############ Now use full training set to train ##############\n",
    "train_df_sample = train_df\n",
    "target_train = train_df_sample['target']\n",
    "X_train = train_df_sample.drop(['ID', 'target'], axis = 1)"
   ]
  },
  {
   "cell_type": "code",
   "execution_count": 66,
   "metadata": {
    "collapsed": false
   },
   "outputs": [
    {
     "data": {
      "text/plain": [
       "ExtraTreesClassifier(bootstrap=False, class_weight=None, criterion='gini',\n",
       "           max_depth=25, max_features=0.87, max_leaf_nodes=None,\n",
       "           min_samples_leaf=45, min_samples_split=2,\n",
       "           min_weight_fraction_leaf=0, n_estimators=700, n_jobs=-1,\n",
       "           oob_score=False, random_state=27, verbose=0, warm_start=False)"
      ]
     },
     "execution_count": 66,
     "metadata": {},
     "output_type": "execute_result"
    }
   ],
   "source": [
    "# best estimator\n",
    "model_best = para_search.best_estimator_\n",
    "model_best.fit(X_train, target_train)\n",
    "\n",
    "joblib.dump(model_best, 'save/extratree/extratree_model.pkl')"
   ]
  },
  {
   "cell_type": "code",
   "execution_count": 67,
   "metadata": {
    "collapsed": false
   },
   "outputs": [
    {
     "data": {
      "text/plain": [
       "0.46891486620978429"
      ]
     },
     "execution_count": 67,
     "metadata": {},
     "output_type": "execute_result"
    }
   ],
   "source": [
    "predprob_train = model_best.predict_proba(X_train)\n",
    "metrics.log_loss(target_train, predprob_train)"
   ]
  },
  {
   "cell_type": "code",
   "execution_count": 68,
   "metadata": {
    "collapsed": false
   },
   "outputs": [
    {
     "name": "stdout",
     "output_type": "stream",
     "text": [
      "Done at: 2016-04-13 18:15:38.215970\n"
     ]
    }
   ],
   "source": [
    "################# Predict the test set and save result to file ############\n",
    "#test_df_sample = test_df.sample(1000, random_state = 0)\n",
    "test_df_sample = test_df\n",
    "\n",
    "X_test = test_df_sample.drop(['ID', 'target'], axis = 1)\n",
    "\n",
    "#Predict test set:\n",
    "predprob_test = model_best.predict_proba(X_test)\n",
    "        \n",
    "# Save results\n",
    "ids = test_df_sample['ID']\n",
    "predprob_one_test = [p[1] for p in predprob_test]\n",
    "bnp_helper.save_result(ids, predprob_one_test, \"results/extraetree_model_result.csv\")\n",
    "\n",
    "print 'Done at: {}'.format(datetime.datetime.now())"
   ]
  },
  {
   "cell_type": "code",
   "execution_count": null,
   "metadata": {
    "collapsed": true
   },
   "outputs": [],
   "source": []
  }
 ],
 "metadata": {
  "kernelspec": {
   "display_name": "Python 2",
   "language": "python",
   "name": "python2"
  },
  "language_info": {
   "codemirror_mode": {
    "name": "ipython",
    "version": 2
   },
   "file_extension": ".py",
   "mimetype": "text/x-python",
   "name": "python",
   "nbconvert_exporter": "python",
   "pygments_lexer": "ipython2",
   "version": "2.7.11"
  }
 },
 "nbformat": 4,
 "nbformat_minor": 0
}
